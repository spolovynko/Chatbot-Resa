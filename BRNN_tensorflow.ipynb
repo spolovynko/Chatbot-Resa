{
 "cells": [
  {
   "cell_type": "code",
   "execution_count": 1,
   "id": "2456f4d0",
   "metadata": {},
   "outputs": [],
   "source": [
    "import pandas as pd"
   ]
  },
  {
   "cell_type": "code",
   "execution_count": 2,
   "id": "8652bdc8",
   "metadata": {},
   "outputs": [],
   "source": [
    "import spacy\n",
    "import re\n",
    "nlp = spacy.load('en_core_web_lg')\n",
    "def tokenize(sentence):\n",
    "    sentence = sentence.lower()\n",
    "    sent = nlp(sentence)\n",
    "    tokens = [token.lemma_ for token in sent if not token.is_stop]\n",
    "    return tokens\n",
    "\n",
    "def load_dataset(path):\n",
    "    df = pd.read_csv(path, header=None, sep=';')\n",
    "    df.columns=['sentence', 'sentiment']\n",
    "    mapping = {'sadness': 1,\n",
    "              'fear' : 1,\n",
    "              'anger' : 1,\n",
    "              'love' : 0,\n",
    "              'surprise' : 0,\n",
    "              'joy' : 0}\n",
    "    df['sentiment'] = df.sentiment.map(mapping)\n",
    "    df['sentence'] = df['sentence'].apply(tokenize)\n",
    "    return df"
   ]
  },
  {
   "cell_type": "code",
   "execution_count": 3,
   "id": "2fbb843e",
   "metadata": {},
   "outputs": [],
   "source": [
    "df_train = load_dataset('train.txt')\n",
    "df_val = load_dataset('val.txt')\n",
    "df_test = load_dataset('test.txt')"
   ]
  },
  {
   "cell_type": "code",
   "execution_count": 4,
   "id": "4b96392d",
   "metadata": {},
   "outputs": [],
   "source": [
    "import numpy as np\n",
    "def X_y_builder(df):\n",
    "    X = list([sent for sent in df.sentence ])\n",
    "    y = np.array([label for label in df.sentiment])\n",
    "    return X, y\n",
    "X_train, y_train = X_y_builder(df_train)\n",
    "X_val, y_val = X_y_builder(df_val)\n",
    "X_test, y_test = X_y_builder(df_test)"
   ]
  },
  {
   "cell_type": "code",
   "execution_count": 5,
   "id": "73b99e3b",
   "metadata": {},
   "outputs": [],
   "source": [
    "import gensim.downloader as api\n",
    "from gensim.models import Word2Vec\n",
    "\n",
    "model_wiki = api.load('fasttext-wiki-news-subwords-300')\n",
    "model_w2v = Word2Vec(X_train, size = 300, min_count = 2).wv  \n"
   ]
  },
  {
   "cell_type": "code",
   "execution_count": 6,
   "id": "bbe3be16",
   "metadata": {},
   "outputs": [
    {
     "name": "stdout",
     "output_type": "stream",
     "text": [
      "[('feel', 1), ('like', 2), ('m', 3), ('nt', 4), ('feeling', 5)]\n"
     ]
    },
    {
     "data": {
      "text/plain": [
       "11856"
      ]
     },
     "execution_count": 6,
     "metadata": {},
     "output_type": "execute_result"
    }
   ],
   "source": [
    "from tensorflow.keras.preprocessing.text import Tokenizer\n",
    "\n",
    "\n",
    "\n",
    "DICT_SIZE = 15000\n",
    "\n",
    "# creating a dictionary with most used words\n",
    "# where num of words = DICT_SIZE\n",
    "tokenizer = Tokenizer(num_words=DICT_SIZE)\n",
    "tokenizer.fit_on_texts(X_train)\n",
    "print(list(tokenizer.word_index.items())[:5])\n",
    "len(tokenizer.word_index)\n"
   ]
  },
  {
   "cell_type": "code",
   "execution_count": 7,
   "id": "edf5dd3f",
   "metadata": {},
   "outputs": [],
   "source": [
    "x_train_max_len = max([len(i) for i in X_train])\n",
    "x_test_max_len = max([len(i) for i in X_test])\n",
    "x_validation_max_len = max([len(i) for i in X_val])\n",
    "\n",
    "MAX_LEN = max(x_train_max_len, x_test_max_len, x_validation_max_len)"
   ]
  },
  {
   "cell_type": "code",
   "execution_count": 9,
   "id": "66ee1843",
   "metadata": {},
   "outputs": [],
   "source": [
    "from tensorflow.keras.preprocessing.sequence import pad_sequences\n",
    "\n",
    "X_train = tokenizer.texts_to_sequences(X_train)\n",
    "X_train_pad = pad_sequences(X_train, maxlen=MAX_LEN)\n",
    "\n",
    "X_test = tokenizer.texts_to_sequences(X_test)\n",
    "X_test_pad = pad_sequences(X_test, maxlen=MAX_LEN)\n",
    "\n",
    "X_val = tokenizer.texts_to_sequences(X_val)\n",
    "X_val_pad = pad_sequences(X_val, maxlen=MAX_LEN)"
   ]
  },
  {
   "cell_type": "code",
   "execution_count": 12,
   "id": "c1a13f73",
   "metadata": {},
   "outputs": [],
   "source": [
    "def create_weight_matrix(model, second_model=False):\n",
    "    '''\n",
    "    Accepts word embedding model\n",
    "    and the second model, if provided\n",
    "    Returns weight matrix of size m*n, where\n",
    "    m - size of the dictionary\n",
    "    n - size of the word embedding vector\n",
    "    '''\n",
    "    vector_size = model.get_vector('like').shape[0]\n",
    "    w_matrix = np.zeros((DICT_SIZE, vector_size))\n",
    "    skipped_words = []\n",
    "\n",
    "    for word, index in tokenizer.word_index.items():\n",
    "        if index < DICT_SIZE:\n",
    "            if word in model.index2word: \n",
    "                w_matrix[index] = model.get_vector(word)\n",
    "        else:\n",
    "            if second_model:\n",
    "                if word in second_model.index2word:\n",
    "                    w_matrix[index] = second_model.get_vector(word)\n",
    "                else:\n",
    "                    skipped_words.append(word)\n",
    "            else:\n",
    "                skipped_words.append(word)\n",
    " \n",
    "    print(f'{len(skipped_words)} words were skipped. Some of them:')\n",
    "    print(skipped_words[:50])\n",
    "    return w_matrix"
   ]
  },
  {
   "cell_type": "code",
   "execution_count": 13,
   "id": "2e7f7955",
   "metadata": {},
   "outputs": [
    {
     "name": "stdout",
     "output_type": "stream",
     "text": [
      "0 words were skipped. Some of them:\n",
      "[]\n"
     ]
    }
   ],
   "source": [
    "weight_matrix = create_weight_matrix(model_wiki, model_w2v)"
   ]
  },
  {
   "cell_type": "code",
   "execution_count": 14,
   "id": "dc2beb62",
   "metadata": {},
   "outputs": [
    {
     "data": {
      "text/plain": [
       "(15000, 300)"
      ]
     },
     "execution_count": 14,
     "metadata": {},
     "output_type": "execute_result"
    }
   ],
   "source": [
    "weight_matrix.shape"
   ]
  },
  {
   "cell_type": "code",
   "execution_count": 15,
   "id": "cc26a804",
   "metadata": {},
   "outputs": [],
   "source": [
    "# import models, layers, optimizers from tensorflow\n",
    "from tensorflow.keras.models import Sequential\n",
    "from tensorflow.keras.layers import Embedding, LSTM, Bidirectional, Dense, Dropout\n",
    "from tensorflow.keras.optimizers import Adam"
   ]
  },
  {
   "cell_type": "code",
   "execution_count": 16,
   "id": "9df6c2db",
   "metadata": {},
   "outputs": [],
   "source": [
    "# import and initialize early stopping\n",
    "from tensorflow.keras.callbacks import EarlyStopping\n",
    "stop = EarlyStopping(monitor='val_loss', mode='min', verbose=1, patience=3)\n"
   ]
  },
  {
   "cell_type": "code",
   "execution_count": 108,
   "id": "204b3051",
   "metadata": {},
   "outputs": [],
   "source": [
    "\n",
    "\n",
    "# initialize sequential model\n",
    "model = Sequential()\n",
    "model.add(Embedding(input_dim = DICT_SIZE, # the whole vocabulary size\n",
    "                    output_dim = weight_matrix.shape[1], # vector space dimension\n",
    "                    input_length = X_train_pad.shape[1], # max_len of text sequence\n",
    "                    weights=[weight_matrix], # assign the embedding weight with embedding marix\n",
    "                    trainable=False)) # set the weight to be not trainable (static)\n",
    "\n"
   ]
  },
  {
   "cell_type": "code",
   "execution_count": 111,
   "id": "14bceefc",
   "metadata": {},
   "outputs": [],
   "source": [
    "\n",
    "\n",
    "#model.add(Bidirectional(LSTM(128, return_sequences=True))) \n",
    "#model.add(Dropout(0.2))\n",
    "#model.add(Bidirectional(LSTM(256, return_sequences=True)))\n",
    "#model.add(Dropout(0.2))\n",
    "model.add(Bidirectional(LSTM(128, return_sequences=False)))\n",
    "#model.add(Dropout(0.2))\n",
    "model.add(Dense(2, activation = 'softmax'))\n",
    "model.compile(loss='sparse_categorical_crossentropy', optimizer='adam', metrics='accuracy')\n",
    "\n"
   ]
  },
  {
   "cell_type": "code",
   "execution_count": 112,
   "id": "a7605b4c",
   "metadata": {},
   "outputs": [
    {
     "name": "stdout",
     "output_type": "stream",
     "text": [
      "Epoch 1/20\n",
      "2000/2000 [==============================] - 75s 36ms/step - loss: 0.3694 - accuracy: 0.8382 - val_loss: 0.2242 - val_accuracy: 0.9280\n",
      "Epoch 2/20\n",
      "2000/2000 [==============================] - 83s 41ms/step - loss: 0.1895 - accuracy: 0.9329 - val_loss: 0.1474 - val_accuracy: 0.9485\n",
      "Epoch 3/20\n",
      "2000/2000 [==============================] - 81s 41ms/step - loss: 0.1335 - accuracy: 0.9536 - val_loss: 0.1249 - val_accuracy: 0.9565\n",
      "Epoch 4/20\n",
      "2000/2000 [==============================] - ETA: 0s - loss: 0.1042 - accuracy: 0.9625"
     ]
    },
    {
     "ename": "KeyboardInterrupt",
     "evalue": "",
     "output_type": "error",
     "traceback": [
      "\u001b[0;31m---------------------------------------------------------------------------\u001b[0m",
      "\u001b[0;31mKeyboardInterrupt\u001b[0m                         Traceback (most recent call last)",
      "\u001b[0;32m<ipython-input-112-dbc8336bafe0>\u001b[0m in \u001b[0;36m<module>\u001b[0;34m\u001b[0m\n\u001b[0;32m----> 1\u001b[0;31m history = model.fit(X_train_pad, y_train, \n\u001b[0m\u001b[1;32m      2\u001b[0m                     \u001b[0mvalidation_data\u001b[0m \u001b[0;34m=\u001b[0m \u001b[0;34m(\u001b[0m\u001b[0mX_val_pad\u001b[0m\u001b[0;34m,\u001b[0m \u001b[0my_val\u001b[0m\u001b[0;34m)\u001b[0m\u001b[0;34m,\u001b[0m\u001b[0;34m\u001b[0m\u001b[0;34m\u001b[0m\u001b[0m\n\u001b[1;32m      3\u001b[0m                     \u001b[0mbatch_size\u001b[0m \u001b[0;34m=\u001b[0m \u001b[0;36m8\u001b[0m\u001b[0;34m,\u001b[0m\u001b[0;34m\u001b[0m\u001b[0;34m\u001b[0m\u001b[0m\n\u001b[1;32m      4\u001b[0m                     \u001b[0mepochs\u001b[0m \u001b[0;34m=\u001b[0m \u001b[0;36m20\u001b[0m\u001b[0;34m,\u001b[0m\u001b[0;34m\u001b[0m\u001b[0;34m\u001b[0m\u001b[0m\n\u001b[1;32m      5\u001b[0m                     callbacks = stop)\n",
      "\u001b[0;32m~/anaconda3/lib/python3.8/site-packages/tensorflow/python/keras/engine/training.py\u001b[0m in \u001b[0;36mfit\u001b[0;34m(self, x, y, batch_size, epochs, verbose, callbacks, validation_split, validation_data, shuffle, class_weight, sample_weight, initial_epoch, steps_per_epoch, validation_steps, validation_batch_size, validation_freq, max_queue_size, workers, use_multiprocessing)\u001b[0m\n\u001b[1;32m   1212\u001b[0m                 \u001b[0mmodel\u001b[0m\u001b[0;34m=\u001b[0m\u001b[0mself\u001b[0m\u001b[0;34m,\u001b[0m\u001b[0;34m\u001b[0m\u001b[0;34m\u001b[0m\u001b[0m\n\u001b[1;32m   1213\u001b[0m                 steps_per_execution=self._steps_per_execution)\n\u001b[0;32m-> 1214\u001b[0;31m           val_logs = self.evaluate(\n\u001b[0m\u001b[1;32m   1215\u001b[0m               \u001b[0mx\u001b[0m\u001b[0;34m=\u001b[0m\u001b[0mval_x\u001b[0m\u001b[0;34m,\u001b[0m\u001b[0;34m\u001b[0m\u001b[0;34m\u001b[0m\u001b[0m\n\u001b[1;32m   1216\u001b[0m               \u001b[0my\u001b[0m\u001b[0;34m=\u001b[0m\u001b[0mval_y\u001b[0m\u001b[0;34m,\u001b[0m\u001b[0;34m\u001b[0m\u001b[0;34m\u001b[0m\u001b[0m\n",
      "\u001b[0;32m~/anaconda3/lib/python3.8/site-packages/tensorflow/python/keras/engine/training.py\u001b[0m in \u001b[0;36mevaluate\u001b[0;34m(self, x, y, batch_size, verbose, sample_weight, steps, callbacks, max_queue_size, workers, use_multiprocessing, return_dict, **kwargs)\u001b[0m\n\u001b[1;32m   1487\u001b[0m             \u001b[0;32mwith\u001b[0m \u001b[0mtrace\u001b[0m\u001b[0;34m.\u001b[0m\u001b[0mTrace\u001b[0m\u001b[0;34m(\u001b[0m\u001b[0;34m'test'\u001b[0m\u001b[0;34m,\u001b[0m \u001b[0mstep_num\u001b[0m\u001b[0;34m=\u001b[0m\u001b[0mstep\u001b[0m\u001b[0;34m,\u001b[0m \u001b[0m_r\u001b[0m\u001b[0;34m=\u001b[0m\u001b[0;36m1\u001b[0m\u001b[0;34m)\u001b[0m\u001b[0;34m:\u001b[0m\u001b[0;34m\u001b[0m\u001b[0;34m\u001b[0m\u001b[0m\n\u001b[1;32m   1488\u001b[0m               \u001b[0mcallbacks\u001b[0m\u001b[0;34m.\u001b[0m\u001b[0mon_test_batch_begin\u001b[0m\u001b[0;34m(\u001b[0m\u001b[0mstep\u001b[0m\u001b[0;34m)\u001b[0m\u001b[0;34m\u001b[0m\u001b[0;34m\u001b[0m\u001b[0m\n\u001b[0;32m-> 1489\u001b[0;31m               \u001b[0mtmp_logs\u001b[0m \u001b[0;34m=\u001b[0m \u001b[0mself\u001b[0m\u001b[0;34m.\u001b[0m\u001b[0mtest_function\u001b[0m\u001b[0;34m(\u001b[0m\u001b[0miterator\u001b[0m\u001b[0;34m)\u001b[0m\u001b[0;34m\u001b[0m\u001b[0;34m\u001b[0m\u001b[0m\n\u001b[0m\u001b[1;32m   1490\u001b[0m               \u001b[0;32mif\u001b[0m \u001b[0mdata_handler\u001b[0m\u001b[0;34m.\u001b[0m\u001b[0mshould_sync\u001b[0m\u001b[0;34m:\u001b[0m\u001b[0;34m\u001b[0m\u001b[0;34m\u001b[0m\u001b[0m\n\u001b[1;32m   1491\u001b[0m                 \u001b[0mcontext\u001b[0m\u001b[0;34m.\u001b[0m\u001b[0masync_wait\u001b[0m\u001b[0;34m(\u001b[0m\u001b[0;34m)\u001b[0m\u001b[0;34m\u001b[0m\u001b[0;34m\u001b[0m\u001b[0m\n",
      "\u001b[0;32m~/anaconda3/lib/python3.8/site-packages/tensorflow/python/eager/def_function.py\u001b[0m in \u001b[0;36m__call__\u001b[0;34m(self, *args, **kwds)\u001b[0m\n\u001b[1;32m    887\u001b[0m \u001b[0;34m\u001b[0m\u001b[0m\n\u001b[1;32m    888\u001b[0m       \u001b[0;32mwith\u001b[0m \u001b[0mOptionalXlaContext\u001b[0m\u001b[0;34m(\u001b[0m\u001b[0mself\u001b[0m\u001b[0;34m.\u001b[0m\u001b[0m_jit_compile\u001b[0m\u001b[0;34m)\u001b[0m\u001b[0;34m:\u001b[0m\u001b[0;34m\u001b[0m\u001b[0;34m\u001b[0m\u001b[0m\n\u001b[0;32m--> 889\u001b[0;31m         \u001b[0mresult\u001b[0m \u001b[0;34m=\u001b[0m \u001b[0mself\u001b[0m\u001b[0;34m.\u001b[0m\u001b[0m_call\u001b[0m\u001b[0;34m(\u001b[0m\u001b[0;34m*\u001b[0m\u001b[0margs\u001b[0m\u001b[0;34m,\u001b[0m \u001b[0;34m**\u001b[0m\u001b[0mkwds\u001b[0m\u001b[0;34m)\u001b[0m\u001b[0;34m\u001b[0m\u001b[0;34m\u001b[0m\u001b[0m\n\u001b[0m\u001b[1;32m    890\u001b[0m \u001b[0;34m\u001b[0m\u001b[0m\n\u001b[1;32m    891\u001b[0m       \u001b[0mnew_tracing_count\u001b[0m \u001b[0;34m=\u001b[0m \u001b[0mself\u001b[0m\u001b[0;34m.\u001b[0m\u001b[0mexperimental_get_tracing_count\u001b[0m\u001b[0;34m(\u001b[0m\u001b[0;34m)\u001b[0m\u001b[0;34m\u001b[0m\u001b[0;34m\u001b[0m\u001b[0m\n",
      "\u001b[0;32m~/anaconda3/lib/python3.8/site-packages/tensorflow/python/eager/def_function.py\u001b[0m in \u001b[0;36m_call\u001b[0;34m(self, *args, **kwds)\u001b[0m\n\u001b[1;32m    922\u001b[0m       \u001b[0;31m# In this case we have not created variables on the first call. So we can\u001b[0m\u001b[0;34m\u001b[0m\u001b[0;34m\u001b[0m\u001b[0;34m\u001b[0m\u001b[0m\n\u001b[1;32m    923\u001b[0m       \u001b[0;31m# run the first trace but we should fail if variables are created.\u001b[0m\u001b[0;34m\u001b[0m\u001b[0;34m\u001b[0m\u001b[0;34m\u001b[0m\u001b[0m\n\u001b[0;32m--> 924\u001b[0;31m       \u001b[0mresults\u001b[0m \u001b[0;34m=\u001b[0m \u001b[0mself\u001b[0m\u001b[0;34m.\u001b[0m\u001b[0m_stateful_fn\u001b[0m\u001b[0;34m(\u001b[0m\u001b[0;34m*\u001b[0m\u001b[0margs\u001b[0m\u001b[0;34m,\u001b[0m \u001b[0;34m**\u001b[0m\u001b[0mkwds\u001b[0m\u001b[0;34m)\u001b[0m\u001b[0;34m\u001b[0m\u001b[0;34m\u001b[0m\u001b[0m\n\u001b[0m\u001b[1;32m    925\u001b[0m       \u001b[0;32mif\u001b[0m \u001b[0mself\u001b[0m\u001b[0;34m.\u001b[0m\u001b[0m_created_variables\u001b[0m\u001b[0;34m:\u001b[0m\u001b[0;34m\u001b[0m\u001b[0;34m\u001b[0m\u001b[0m\n\u001b[1;32m    926\u001b[0m         raise ValueError(\"Creating variables on a non-first call to a function\"\n",
      "\u001b[0;32m~/anaconda3/lib/python3.8/site-packages/tensorflow/python/eager/function.py\u001b[0m in \u001b[0;36m__call__\u001b[0;34m(self, *args, **kwargs)\u001b[0m\n\u001b[1;32m   3021\u001b[0m       (graph_function,\n\u001b[1;32m   3022\u001b[0m        filtered_flat_args) = self._maybe_define_function(args, kwargs)\n\u001b[0;32m-> 3023\u001b[0;31m     return graph_function._call_flat(\n\u001b[0m\u001b[1;32m   3024\u001b[0m         filtered_flat_args, captured_inputs=graph_function.captured_inputs)  # pylint: disable=protected-access\n\u001b[1;32m   3025\u001b[0m \u001b[0;34m\u001b[0m\u001b[0m\n",
      "\u001b[0;32m~/anaconda3/lib/python3.8/site-packages/tensorflow/python/eager/function.py\u001b[0m in \u001b[0;36m_call_flat\u001b[0;34m(self, args, captured_inputs, cancellation_manager)\u001b[0m\n\u001b[1;32m   1958\u001b[0m         and executing_eagerly):\n\u001b[1;32m   1959\u001b[0m       \u001b[0;31m# No tape is watching; skip to running the function.\u001b[0m\u001b[0;34m\u001b[0m\u001b[0;34m\u001b[0m\u001b[0;34m\u001b[0m\u001b[0m\n\u001b[0;32m-> 1960\u001b[0;31m       return self._build_call_outputs(self._inference_function.call(\n\u001b[0m\u001b[1;32m   1961\u001b[0m           ctx, args, cancellation_manager=cancellation_manager))\n\u001b[1;32m   1962\u001b[0m     forward_backward = self._select_forward_and_backward_functions(\n",
      "\u001b[0;32m~/anaconda3/lib/python3.8/site-packages/tensorflow/python/eager/function.py\u001b[0m in \u001b[0;36mcall\u001b[0;34m(self, ctx, args, cancellation_manager)\u001b[0m\n\u001b[1;32m    589\u001b[0m       \u001b[0;32mwith\u001b[0m \u001b[0m_InterpolateFunctionError\u001b[0m\u001b[0;34m(\u001b[0m\u001b[0mself\u001b[0m\u001b[0;34m)\u001b[0m\u001b[0;34m:\u001b[0m\u001b[0;34m\u001b[0m\u001b[0;34m\u001b[0m\u001b[0m\n\u001b[1;32m    590\u001b[0m         \u001b[0;32mif\u001b[0m \u001b[0mcancellation_manager\u001b[0m \u001b[0;32mis\u001b[0m \u001b[0;32mNone\u001b[0m\u001b[0;34m:\u001b[0m\u001b[0;34m\u001b[0m\u001b[0;34m\u001b[0m\u001b[0m\n\u001b[0;32m--> 591\u001b[0;31m           outputs = execute.execute(\n\u001b[0m\u001b[1;32m    592\u001b[0m               \u001b[0mstr\u001b[0m\u001b[0;34m(\u001b[0m\u001b[0mself\u001b[0m\u001b[0;34m.\u001b[0m\u001b[0msignature\u001b[0m\u001b[0;34m.\u001b[0m\u001b[0mname\u001b[0m\u001b[0;34m)\u001b[0m\u001b[0;34m,\u001b[0m\u001b[0;34m\u001b[0m\u001b[0;34m\u001b[0m\u001b[0m\n\u001b[1;32m    593\u001b[0m               \u001b[0mnum_outputs\u001b[0m\u001b[0;34m=\u001b[0m\u001b[0mself\u001b[0m\u001b[0;34m.\u001b[0m\u001b[0m_num_outputs\u001b[0m\u001b[0;34m,\u001b[0m\u001b[0;34m\u001b[0m\u001b[0;34m\u001b[0m\u001b[0m\n",
      "\u001b[0;32m~/anaconda3/lib/python3.8/site-packages/tensorflow/python/eager/execute.py\u001b[0m in \u001b[0;36mquick_execute\u001b[0;34m(op_name, num_outputs, inputs, attrs, ctx, name)\u001b[0m\n\u001b[1;32m     57\u001b[0m   \u001b[0;32mtry\u001b[0m\u001b[0;34m:\u001b[0m\u001b[0;34m\u001b[0m\u001b[0;34m\u001b[0m\u001b[0m\n\u001b[1;32m     58\u001b[0m     \u001b[0mctx\u001b[0m\u001b[0;34m.\u001b[0m\u001b[0mensure_initialized\u001b[0m\u001b[0;34m(\u001b[0m\u001b[0;34m)\u001b[0m\u001b[0;34m\u001b[0m\u001b[0;34m\u001b[0m\u001b[0m\n\u001b[0;32m---> 59\u001b[0;31m     tensors = pywrap_tfe.TFE_Py_Execute(ctx._handle, device_name, op_name,\n\u001b[0m\u001b[1;32m     60\u001b[0m                                         inputs, attrs, num_outputs)\n\u001b[1;32m     61\u001b[0m   \u001b[0;32mexcept\u001b[0m \u001b[0mcore\u001b[0m\u001b[0;34m.\u001b[0m\u001b[0m_NotOkStatusException\u001b[0m \u001b[0;32mas\u001b[0m \u001b[0me\u001b[0m\u001b[0;34m:\u001b[0m\u001b[0;34m\u001b[0m\u001b[0;34m\u001b[0m\u001b[0m\n",
      "\u001b[0;31mKeyboardInterrupt\u001b[0m: "
     ]
    }
   ],
   "source": [
    "history = model.fit(X_train_pad, y_train, \n",
    "                    validation_data = (X_val_pad, y_val),\n",
    "                    batch_size = 8,\n",
    "                    epochs = 20, \n",
    "                    callbacks = stop)"
   ]
  },
  {
   "cell_type": "code",
   "execution_count": 113,
   "id": "5aa954f6",
   "metadata": {},
   "outputs": [
    {
     "name": "stdout",
     "output_type": "stream",
     "text": [
      "63/63 [==============================] - 3s 28ms/step - loss: 0.1111 - accuracy: 0.9585\n"
     ]
    },
    {
     "data": {
      "text/plain": [
       "[0.11111587285995483, 0.9585000276565552]"
      ]
     },
     "execution_count": 113,
     "metadata": {},
     "output_type": "execute_result"
    }
   ],
   "source": [
    "model.evaluate(X_test_pad, y_test) "
   ]
  },
  {
   "cell_type": "code",
   "execution_count": 101,
   "id": "d3a653cf",
   "metadata": {},
   "outputs": [
    {
     "data": {
      "text/plain": [
       "1"
      ]
     },
     "execution_count": 101,
     "metadata": {},
     "output_type": "execute_result"
    }
   ],
   "source": [
    "def predict(sentence):\n",
    "    sent = [token for token in tokenize(sentence)]\n",
    "    sent = [token[0]for token in tokenizer.texts_to_sequences(sent) if len(token)>0]\n",
    "    sent = pad_sequences([sent], maxlen=MAX_LEN)\n",
    "    return np.argmax(model(sent))\n",
    "    \n",
    "predict(\" You're incompetent!\")"
   ]
  },
  {
   "cell_type": "code",
   "execution_count": null,
   "id": "e9ba6b68",
   "metadata": {},
   "outputs": [],
   "source": []
  }
 ],
 "metadata": {
  "kernelspec": {
   "display_name": "Python 3.8.5 64-bit ('anaconda3': virtualenv)",
   "language": "python",
   "name": "python385jvsc74a57bd09977e029b2da6177bb9bc7be3b4cc732c21fce726b7c7753acdf2f8f3db06ed7"
  },
  "language_info": {
   "codemirror_mode": {
    "name": "ipython",
    "version": 3
   },
   "file_extension": ".py",
   "mimetype": "text/x-python",
   "name": "python",
   "nbconvert_exporter": "python",
   "pygments_lexer": "ipython3",
   "version": "3.8.5"
  }
 },
 "nbformat": 4,
 "nbformat_minor": 5
}
