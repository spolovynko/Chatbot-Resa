{
 "cells": [
  {
   "cell_type": "code",
   "execution_count": 22,
   "id": "033f51de",
   "metadata": {},
   "outputs": [],
   "source": [
    "def dashatize(n):\n",
    "    if type(n) != int:\n",
    "        return \n",
    "    s = str(abs(n))\n",
    "    s = [x for x in s]\n",
    "    return \"-\".join(s)"
   ]
  },
  {
   "cell_type": "code",
   "execution_count": 23,
   "id": "c621f499",
   "metadata": {},
   "outputs": [
    {
     "data": {
      "text/plain": [
       "'5-3-1-1'"
      ]
     },
     "execution_count": 23,
     "metadata": {},
     "output_type": "execute_result"
    }
   ],
   "source": [
    "dashatize(-5311)"
   ]
  },
  {
   "cell_type": "code",
   "execution_count": null,
   "id": "2333e563",
   "metadata": {},
   "outputs": [],
   "source": []
  }
 ],
 "metadata": {
  "kernelspec": {
   "display_name": "Python 3",
   "language": "python",
   "name": "python3"
  },
  "language_info": {
   "codemirror_mode": {
    "name": "ipython",
    "version": 3
   },
   "file_extension": ".py",
   "mimetype": "text/x-python",
   "name": "python",
   "nbconvert_exporter": "python",
   "pygments_lexer": "ipython3",
   "version": "3.8.8"
  }
 },
 "nbformat": 4,
 "nbformat_minor": 5
}
