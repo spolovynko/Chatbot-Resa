{
 "cells": [
  {
   "cell_type": "code",
   "execution_count": 1,
   "id": "2456f4d0",
   "metadata": {
    "ExecuteTime": {
     "end_time": "2021-09-22T08:43:20.833942Z",
     "start_time": "2021-09-22T08:43:20.328383Z"
    }
   },
   "outputs": [],
   "source": [
    "import pandas as pd"
   ]
  },
  {
   "cell_type": "code",
   "execution_count": 2,
   "id": "650b12fe",
   "metadata": {
    "ExecuteTime": {
     "end_time": "2021-09-22T08:43:28.080566Z",
     "start_time": "2021-09-22T08:43:21.334822Z"
    }
   },
   "outputs": [],
   "source": [
    "import tensorflow as tf\n",
    "devices = tf.config.experimental.list_physical_devices(\"GPU\")\n",
    "for device in devices:\n",
    "    tf.config.experimental.set_memory_growth(device, True)"
   ]
  },
  {
   "cell_type": "code",
   "execution_count": 3,
   "id": "8652bdc8",
   "metadata": {
    "ExecuteTime": {
     "end_time": "2021-09-22T08:43:33.763627Z",
     "start_time": "2021-09-22T08:43:29.045924Z"
    }
   },
   "outputs": [],
   "source": [
    "import spacy\n",
    "import re\n",
    "nlp = spacy.load('en_core_web_lg')\n",
    "def tokenize(sentence):\n",
    "    sentence = sentence.lower()\n",
    "    sent = nlp(sentence)\n",
    "    tokens = [token.lemma_ for token in sent if not token.is_stop]\n",
    "    return tokens\n",
    "\n",
    "def load_dataset(path):\n",
    "    df = pd.read_csv(path, header=None, sep=';')\n",
    "    df.columns=['sentence', 'sentiment']\n",
    "    mapping = {'sadness': 1,\n",
    "              'fear' : 1,\n",
    "              'anger' : 1,\n",
    "              'love' : 0,\n",
    "              'surprise' : 0,\n",
    "              'joy' : 0}\n",
    "    df['sentiment'] = df.sentiment.map(mapping)\n",
    "    df['sentence'] = df['sentence'].apply(tokenize)\n",
    "    return df"
   ]
  },
  {
   "cell_type": "code",
   "execution_count": 4,
   "id": "2fbb843e",
   "metadata": {
    "ExecuteTime": {
     "end_time": "2021-09-22T08:46:53.529047Z",
     "start_time": "2021-09-22T08:43:34.610242Z"
    }
   },
   "outputs": [],
   "source": [
    "#https://www.kaggle.com/praveengovi/emotions-dataset-for-nlp\n",
    "\n",
    "df_train = load_dataset('train.txt')\n",
    "df_val = load_dataset('val.txt')\n",
    "df_test = load_dataset('test.txt')"
   ]
  },
  {
   "cell_type": "code",
   "execution_count": 5,
   "id": "4b96392d",
   "metadata": {
    "ExecuteTime": {
     "end_time": "2021-09-22T08:47:08.621556Z",
     "start_time": "2021-09-22T08:47:08.603969Z"
    }
   },
   "outputs": [],
   "source": [
    "import numpy as np\n",
    "def X_y_builder(df):\n",
    "    X = list([sent for sent in df.sentence ])\n",
    "    y = np.array([label for label in df.sentiment])\n",
    "    return X, y\n",
    "X_train, y_train = X_y_builder(df_train)\n",
    "X_val, y_val = X_y_builder(df_val)\n",
    "X_test, y_test = X_y_builder(df_test)"
   ]
  },
  {
   "cell_type": "code",
   "execution_count": 6,
   "id": "73b99e3b",
   "metadata": {
    "ExecuteTime": {
     "end_time": "2021-09-22T08:54:56.636228Z",
     "start_time": "2021-09-22T08:47:21.659308Z"
    }
   },
   "outputs": [],
   "source": [
    "import gensim.downloader as api\n",
    "from gensim.models import Word2Vec\n",
    "\n",
    "model_wiki = api.load('fasttext-wiki-news-subwords-300')\n",
    "model_w2v = Word2Vec(X_train, size = 300, min_count = 2).wv  \n"
   ]
  },
  {
   "cell_type": "code",
   "execution_count": 7,
   "id": "bbe3be16",
   "metadata": {
    "ExecuteTime": {
     "end_time": "2021-09-22T08:55:06.296942Z",
     "start_time": "2021-09-22T08:55:06.068821Z"
    }
   },
   "outputs": [
    {
     "name": "stdout",
     "output_type": "stream",
     "text": [
      "[('feel', 1), ('like', 2), ('m', 3), ('nt', 4), ('feeling', 5)]\n"
     ]
    },
    {
     "data": {
      "text/plain": [
       "11856"
      ]
     },
     "execution_count": 7,
     "metadata": {},
     "output_type": "execute_result"
    }
   ],
   "source": [
    "from tensorflow.keras.preprocessing.text import Tokenizer\n",
    "\n",
    "\n",
    "\n",
    "DICT_SIZE = 15000\n",
    "\n",
    "# creating a dictionary with most used words\n",
    "# where num of words = DICT_SIZE\n",
    "tokenizer = Tokenizer(num_words=DICT_SIZE)\n",
    "tokenizer.fit_on_texts(X_train)\n",
    "print(list(tokenizer.word_index.items())[:5])\n",
    "len(tokenizer.word_index)\n"
   ]
  },
  {
   "cell_type": "code",
   "execution_count": 8,
   "id": "edf5dd3f",
   "metadata": {
    "ExecuteTime": {
     "end_time": "2021-09-22T08:55:20.738972Z",
     "start_time": "2021-09-22T08:55:20.728490Z"
    },
    "pycharm": {
     "is_executing": true
    }
   },
   "outputs": [],
   "source": [
    "x_train_max_len = max([len(i) for i in X_train])\n",
    "x_test_max_len = max([len(i) for i in X_test])\n",
    "x_validation_max_len = max([len(i) for i in X_val])\n",
    "\n",
    "MAX_LEN = max(x_train_max_len, x_test_max_len, x_validation_max_len)"
   ]
  },
  {
   "cell_type": "code",
   "execution_count": 9,
   "id": "66ee1843",
   "metadata": {
    "ExecuteTime": {
     "end_time": "2021-09-22T08:55:22.928672Z",
     "start_time": "2021-09-22T08:55:22.674060Z"
    },
    "pycharm": {
     "is_executing": true
    }
   },
   "outputs": [],
   "source": [
    "from tensorflow.keras.preprocessing.sequence import pad_sequences\n",
    "\n",
    "X_train = tokenizer.texts_to_sequences(X_train)\n",
    "X_train_pad = pad_sequences(X_train, maxlen=MAX_LEN)\n",
    "\n",
    "X_test = tokenizer.texts_to_sequences(X_test)\n",
    "X_test_pad = pad_sequences(X_test, maxlen=MAX_LEN)\n",
    "\n",
    "X_val = tokenizer.texts_to_sequences(X_val)\n",
    "X_val_pad = pad_sequences(X_val, maxlen=MAX_LEN)"
   ]
  },
  {
   "cell_type": "code",
   "execution_count": 10,
   "id": "c1a13f73",
   "metadata": {
    "ExecuteTime": {
     "end_time": "2021-09-22T08:55:24.637923Z",
     "start_time": "2021-09-22T08:55:24.622808Z"
    }
   },
   "outputs": [],
   "source": [
    "def create_weight_matrix(model, second_model=False):\n",
    "    '''\n",
    "    Accepts word embedding model\n",
    "    and the second model, if provided\n",
    "    Returns weight matrix of size m*n, where\n",
    "    m - size of the dictionary\n",
    "    n - size of the word embedding vector\n",
    "    '''\n",
    "    vector_size = model.get_vector('like').shape[0]\n",
    "    w_matrix = np.zeros((DICT_SIZE, vector_size))\n",
    "    skipped_words = []\n",
    "\n",
    "    for word, index in tokenizer.word_index.items():\n",
    "        if index < DICT_SIZE:\n",
    "            if word in model.index2word: \n",
    "                w_matrix[index] = model.get_vector(word)\n",
    "        else:\n",
    "            if second_model:\n",
    "                if word in second_model.index2word:\n",
    "                    w_matrix[index] = second_model.get_vector(word)\n",
    "                else:\n",
    "                    skipped_words.append(word)\n",
    "            else:\n",
    "                skipped_words.append(word)\n",
    " \n",
    "    print(f'{len(skipped_words)} words were skipped. Some of them:')\n",
    "    print(skipped_words[:50])\n",
    "    return w_matrix"
   ]
  },
  {
   "cell_type": "code",
   "execution_count": 11,
   "id": "2e7f7955",
   "metadata": {
    "ExecuteTime": {
     "end_time": "2021-09-22T08:56:05.968392Z",
     "start_time": "2021-09-22T08:55:25.964452Z"
    }
   },
   "outputs": [
    {
     "name": "stdout",
     "output_type": "stream",
     "text": [
      "0 words were skipped. Some of them:\n",
      "[]\n"
     ]
    }
   ],
   "source": [
    "weight_matrix = create_weight_matrix(model_wiki, model_w2v)"
   ]
  },
  {
   "cell_type": "code",
   "execution_count": 12,
   "id": "dc2beb62",
   "metadata": {
    "ExecuteTime": {
     "end_time": "2021-09-22T08:56:20.749758Z",
     "start_time": "2021-09-22T08:56:20.742911Z"
    }
   },
   "outputs": [
    {
     "data": {
      "text/plain": [
       "(15000, 300)"
      ]
     },
     "execution_count": 12,
     "metadata": {},
     "output_type": "execute_result"
    }
   ],
   "source": [
    "weight_matrix.shape"
   ]
  },
  {
   "cell_type": "code",
   "execution_count": 13,
   "id": "cc26a804",
   "metadata": {
    "ExecuteTime": {
     "end_time": "2021-09-22T08:56:23.975955Z",
     "start_time": "2021-09-22T08:56:23.970493Z"
    }
   },
   "outputs": [],
   "source": [
    "# import models, layers, optimizers from tensorflow\n",
    "from tensorflow.keras.models import Sequential\n",
    "from tensorflow.keras.layers import Embedding, LSTM, Bidirectional, Dense, Dropout\n",
    "from tensorflow.keras.optimizers import Adam"
   ]
  },
  {
   "cell_type": "code",
   "execution_count": 14,
   "id": "9df6c2db",
   "metadata": {
    "ExecuteTime": {
     "end_time": "2021-09-22T08:56:25.460597Z",
     "start_time": "2021-09-22T08:56:25.452996Z"
    }
   },
   "outputs": [],
   "source": [
    "# import and initialize early stopping\n",
    "from tensorflow.keras.callbacks import EarlyStopping\n",
    "stop = EarlyStopping(monitor='val_loss', mode='min', verbose=1, patience=3)\n"
   ]
  },
  {
   "cell_type": "code",
   "execution_count": 15,
   "id": "204b3051",
   "metadata": {
    "ExecuteTime": {
     "end_time": "2021-09-22T08:56:28.543465Z",
     "start_time": "2021-09-22T08:56:28.281091Z"
    }
   },
   "outputs": [
    {
     "name": "stderr",
     "output_type": "stream",
     "text": [
      "2021-09-22 10:56:28.352982: I tensorflow/core/platform/cpu_feature_guard.cc:142] This TensorFlow binary is optimized with oneAPI Deep Neural Network Library (oneDNN) to use the following CPU instructions in performance-critical operations:  AVX2 FMA\n",
      "To enable them in other operations, rebuild TensorFlow with the appropriate compiler flags.\n"
     ]
    }
   ],
   "source": [
    "\n",
    "\n",
    "# initialize sequential model\n",
    "model = Sequential()\n",
    "model.add(Embedding(input_dim = DICT_SIZE, # the whole vocabulary size\n",
    "                    output_dim = weight_matrix.shape[1], # vector space dimension\n",
    "                    input_length = X_train_pad.shape[1], # max_len of text sequence\n",
    "                    weights=[weight_matrix], # assign the embedding weight with embedding marix\n",
    "                    trainable=False)) # set the weight to be not trainable (static)\n",
    "\n"
   ]
  },
  {
   "cell_type": "code",
   "execution_count": 16,
   "id": "14bceefc",
   "metadata": {
    "ExecuteTime": {
     "end_time": "2021-09-22T08:56:35.448788Z",
     "start_time": "2021-09-22T08:56:34.690553Z"
    }
   },
   "outputs": [
    {
     "name": "stdout",
     "output_type": "stream",
     "text": [
      "Model: \"sequential\"\n",
      "_________________________________________________________________\n",
      "Layer (type)                 Output Shape              Param #   \n",
      "=================================================================\n",
      "embedding (Embedding)        (None, 34, 300)           4500000   \n",
      "_________________________________________________________________\n",
      "bidirectional (Bidirectional (None, 256)               439296    \n",
      "_________________________________________________________________\n",
      "dense (Dense)                (None, 2)                 514       \n",
      "=================================================================\n",
      "Total params: 4,939,810\n",
      "Trainable params: 439,810\n",
      "Non-trainable params: 4,500,000\n",
      "_________________________________________________________________\n"
     ]
    }
   ],
   "source": [
    "\n",
    "\n",
    "#model.add(Bidirectional(LSTM(128, return_sequences=True))) \n",
    "#model.add(Dropout(0.2))\n",
    "#model.add(Bidirectional(LSTM(256, return_sequences=True)))\n",
    "#model.add(Dropout(0.2))\n",
    "model.add(Bidirectional(LSTM(128, return_sequences=False)))\n",
    "#model.add(Dropout(0.2))\n",
    "model.add(Dense(2, activation = 'softmax'))\n",
    "model.compile(loss='sparse_categorical_crossentropy', optimizer='adam', metrics='accuracy')\n",
    "\n",
    "\n",
    "model.summary()\n",
    "\n"
   ]
  },
  {
   "cell_type": "code",
   "execution_count": 17,
   "id": "a7605b4c",
   "metadata": {
    "ExecuteTime": {
     "end_time": "2021-09-22T09:01:19.509332Z",
     "start_time": "2021-09-22T08:56:39.216088Z"
    }
   },
   "outputs": [
    {
     "name": "stderr",
     "output_type": "stream",
     "text": [
      "2021-09-22 10:56:39.298144: I tensorflow/compiler/mlir/mlir_graph_optimization_pass.cc:176] None of the MLIR Optimization Passes are enabled (registered 2)\n"
     ]
    },
    {
     "name": "stdout",
     "output_type": "stream",
     "text": [
      "Epoch 1/3\n",
      "2000/2000 [==============================] - 90s 43ms/step - loss: 0.3462 - accuracy: 0.8491 - val_loss: 0.2061 - val_accuracy: 0.9285\n",
      "Epoch 2/3\n",
      "2000/2000 [==============================] - 96s 48ms/step - loss: 0.1613 - accuracy: 0.9379 - val_loss: 0.1391 - val_accuracy: 0.9485\n",
      "Epoch 3/3\n",
      "2000/2000 [==============================] - 94s 47ms/step - loss: 0.1059 - accuracy: 0.9598 - val_loss: 0.0938 - val_accuracy: 0.9615\n"
     ]
    }
   ],
   "source": [
    "\n",
    "history = model.fit(X_train_pad, y_train, \n",
    "                    validation_data = (X_val_pad, y_val),\n",
    "                    batch_size = 8,\n",
    "                    epochs = 3, \n",
    "                    callbacks = stop)"
   ]
  },
  {
   "cell_type": "code",
   "execution_count": 18,
   "id": "5aa954f6",
   "metadata": {
    "ExecuteTime": {
     "end_time": "2021-09-22T09:01:28.388699Z",
     "start_time": "2021-09-22T09:01:25.380072Z"
    }
   },
   "outputs": [
    {
     "name": "stdout",
     "output_type": "stream",
     "text": [
      "63/63 [==============================] - 3s 32ms/step - loss: 0.1099 - accuracy: 0.9585\n"
     ]
    },
    {
     "data": {
      "text/plain": [
       "[0.10989311337471008, 0.9585000276565552]"
      ]
     },
     "execution_count": 18,
     "metadata": {},
     "output_type": "execute_result"
    }
   ],
   "source": [
    "model.evaluate(X_test_pad, y_test) "
   ]
  },
  {
   "cell_type": "code",
   "execution_count": 19,
   "id": "d3a653cf",
   "metadata": {
    "ExecuteTime": {
     "end_time": "2021-09-22T09:01:40.055496Z",
     "start_time": "2021-09-22T09:01:39.924548Z"
    }
   },
   "outputs": [
    {
     "data": {
      "text/plain": [
       "1"
      ]
     },
     "execution_count": 19,
     "metadata": {},
     "output_type": "execute_result"
    }
   ],
   "source": [
    "def predict(sentence):\n",
    "    sent = [token for token in tokenize(sentence)]\n",
    "    sent = [token[0]for token in tokenizer.texts_to_sequences(sent) if len(token)>0]\n",
    "    sent = pad_sequences([sent], maxlen=MAX_LEN)\n",
    "    return np.argmax(model(sent))\n",
    "    \n",
    "predict(\" You're incompetent!\")"
   ]
  },
  {
   "cell_type": "code",
   "execution_count": 23,
   "id": "e9ba6b68",
   "metadata": {
    "ExecuteTime": {
     "end_time": "2021-09-22T09:05:06.365102Z",
     "start_time": "2021-09-22T09:04:52.695941Z"
    }
   },
   "outputs": [
    {
     "name": "stderr",
     "output_type": "stream",
     "text": [
      "WARNING:absl:Found untraced functions such as lstm_cell_1_layer_call_fn, lstm_cell_1_layer_call_and_return_conditional_losses, lstm_cell_2_layer_call_fn, lstm_cell_2_layer_call_and_return_conditional_losses, lstm_cell_1_layer_call_fn while saving (showing 5 of 10). These functions will not be directly callable after loading.\n"
     ]
    },
    {
     "name": "stdout",
     "output_type": "stream",
     "text": [
      "INFO:tensorflow:Assets written to: ../flask_app/static/sentiment_analyser/model/assets\n"
     ]
    },
    {
     "name": "stderr",
     "output_type": "stream",
     "text": [
      "INFO:tensorflow:Assets written to: ../flask_app/static/sentiment_analyser/model/assets\n"
     ]
    }
   ],
   "source": [
    "model.save('../flask_app/static/sentiment_analyser/model')\n"
   ]
  },
  {
   "cell_type": "code",
   "execution_count": 25,
   "id": "2242ae3d",
   "metadata": {
    "ExecuteTime": {
     "end_time": "2021-09-22T09:05:19.348501Z",
     "start_time": "2021-09-22T09:05:19.329696Z"
    }
   },
   "outputs": [],
   "source": [
    "import pickle\n",
    "\n",
    "with open('../flask_app/static/tokenizer.pickle', 'wb') as file:\n",
    "    pickle.dump(tokenizer, file, protocol=pickle.HIGHEST_PROTOCOL)"
   ]
  },
  {
   "cell_type": "code",
   "execution_count": 26,
   "id": "4922af9d",
   "metadata": {
    "ExecuteTime": {
     "end_time": "2021-09-22T09:05:21.724557Z",
     "start_time": "2021-09-22T09:05:21.645623Z"
    }
   },
   "outputs": [],
   "source": [
    "import json\n",
    "import io\n",
    "tokenizer_json = tokenizer.to_json()\n",
    "with io.open('../flask_app/static/tokenizer.json', 'w', encoding='utf-8') as file:\n",
    "    file.write(json.dumps(tokenizer_json, ensure_ascii=False))\n"
   ]
  },
  {
   "cell_type": "code",
   "execution_count": null,
   "id": "3d307f35",
   "metadata": {},
   "outputs": [],
   "source": []
  }
 ],
 "metadata": {
  "hide_input": false,
  "kernelspec": {
   "display_name": "Python 3 (ipykernel)",
   "language": "python",
   "name": "python3"
  },
  "language_info": {
   "codemirror_mode": {
    "name": "ipython",
    "version": 3
   },
   "file_extension": ".py",
   "mimetype": "text/x-python",
   "name": "python",
   "nbconvert_exporter": "python",
   "pygments_lexer": "ipython3",
   "version": "3.9.5"
  },
  "nbTranslate": {
   "displayLangs": [
    "*"
   ],
   "hotkey": "alt-t",
   "langInMainMenu": true,
   "sourceLang": "en",
   "targetLang": "fr",
   "useGoogleTranslate": true
  },
  "toc": {
   "base_numbering": 1,
   "nav_menu": {},
   "number_sections": true,
   "sideBar": true,
   "skip_h1_title": false,
   "title_cell": "Table of Contents",
   "title_sidebar": "Contents",
   "toc_cell": false,
   "toc_position": {},
   "toc_section_display": true,
   "toc_window_display": false
  },
  "varInspector": {
   "cols": {
    "lenName": 16,
    "lenType": 16,
    "lenVar": 40
   },
   "kernels_config": {
    "python": {
     "delete_cmd_postfix": "",
     "delete_cmd_prefix": "del ",
     "library": "var_list.py",
     "varRefreshCmd": "print(var_dic_list())"
    },
    "r": {
     "delete_cmd_postfix": ") ",
     "delete_cmd_prefix": "rm(",
     "library": "var_list.r",
     "varRefreshCmd": "cat(var_dic_list()) "
    }
   },
   "types_to_exclude": [
    "module",
    "function",
    "builtin_function_or_method",
    "instance",
    "_Feature"
   ],
   "window_display": false
  }
 },
 "nbformat": 4,
 "nbformat_minor": 5
}
