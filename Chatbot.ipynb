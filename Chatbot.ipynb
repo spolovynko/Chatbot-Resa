{
 "cells": [
  {
   "cell_type": "code",
   "execution_count": 1,
   "id": "38207355",
   "metadata": {},
   "outputs": [],
   "source": [
    "import spacy"
   ]
  },
  {
   "cell_type": "code",
   "execution_count": 39,
   "id": "0721e64b",
   "metadata": {
    "scrolled": true
   },
   "outputs": [
    {
     "name": "stdout",
     "output_type": "stream",
     "text": [
      "friday DATE\n"
     ]
    }
   ],
   "source": [
    "NER = spacy.load(\"en_core_web_sm\")\n",
    "\n",
    "raw_text = 'I would like to book a table for ten people  friday at 9 pm'\n",
    "sent = NER(raw_text)\n",
    "\n",
    "for word in sent.ents:\n",
    "    print(word.text,word.label_)"
   ]
  },
  {
   "cell_type": "code",
   "execution_count": 37,
   "id": "0ace1d25",
   "metadata": {},
   "outputs": [
    {
     "name": "stdout",
     "output_type": "stream",
     "text": [
      "I PRON\n",
      "would AUX\n",
      "like VERB\n",
      "to PART\n",
      "book VERB\n",
      "a DET\n",
      "table NOUN\n",
      "for ADP\n",
      "ten NUM\n",
      "people NOUN\n",
      "  SPACE\n",
      "friday PROPN\n",
      "at ADP\n",
      "9 NUM\n",
      "pm NOUN\n"
     ]
    }
   ],
   "source": [
    "for chunk in sent:\n",
    "    print(chunk, chunk.pos_)"
   ]
  },
  {
   "cell_type": "code",
   "execution_count": 14,
   "id": "64d00d35",
   "metadata": {},
   "outputs": [
    {
     "name": "stdout",
     "output_type": "stream",
     "text": [
      "I\n",
      "a table\n",
      "ten people\n",
      "9pm\n"
     ]
    }
   ],
   "source": [
    "for chunk in sent.noun_chunks:\n",
    "    print(chunk)"
   ]
  },
  {
   "cell_type": "code",
   "execution_count": null,
   "id": "f57feefc",
   "metadata": {},
   "outputs": [],
   "source": []
  }
 ],
 "metadata": {
  "kernelspec": {
   "display_name": "Python 3.8.5 64-bit ('anaconda3': virtualenv)",
   "language": "python",
   "name": "python385jvsc74a57bd09977e029b2da6177bb9bc7be3b4cc732c21fce726b7c7753acdf2f8f3db06ed7"
  },
  "language_info": {
   "codemirror_mode": {
    "name": "ipython",
    "version": 3
   },
   "file_extension": ".py",
   "mimetype": "text/x-python",
   "name": "python",
   "nbconvert_exporter": "python",
   "pygments_lexer": "ipython3",
   "version": "3.8.5"
  }
 },
 "nbformat": 4,
 "nbformat_minor": 5
}
