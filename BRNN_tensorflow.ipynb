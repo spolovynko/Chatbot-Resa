{
 "cells": [
  {
   "cell_type": "code",
   "execution_count": 1,
   "id": "2456f4d0",
   "metadata": {},
   "outputs": [],
   "source": [
    "import pandas as pd"
   ]
  },
  {
   "cell_type": "code",
   "execution_count": 2,
   "id": "650b12fe",
   "metadata": {},
   "outputs": [],
   "source": [
    "import tensorflow as tf\n",
    "device = tf.config.experimental.list_physical_devices(\"GPU\")[0]\n",
    "tf.config.experimental.set_memory_growth(device, True)"
   ]
  },
  {
   "cell_type": "code",
   "execution_count": 3,
   "id": "8652bdc8",
   "metadata": {},
   "outputs": [],
   "source": [
    "import spacy\n",
    "import re\n",
    "nlp = spacy.load('en_core_web_lg')\n",
    "def tokenize(sentence):\n",
    "    sentence = sentence.lower()\n",
    "    sent = nlp(sentence)\n",
    "    tokens = [token.lemma_ for token in sent if not token.is_stop]\n",
    "    return tokens\n",
    "\n",
    "def load_dataset(path):\n",
    "    df = pd.read_csv(path, header=None, sep=';')\n",
    "    df.columns=['sentence', 'sentiment']\n",
    "    mapping = {'sadness': 1,\n",
    "              'fear' : 1,\n",
    "              'anger' : 1,\n",
    "              'love' : 0,\n",
    "              'surprise' : 0,\n",
    "              'joy' : 0}\n",
    "    df['sentiment'] = df.sentiment.map(mapping)\n",
    "    df['sentence'] = df['sentence'].apply(tokenize)\n",
    "    return df"
   ]
  },
  {
   "cell_type": "code",
   "execution_count": 4,
   "id": "2fbb843e",
   "metadata": {},
   "outputs": [],
   "source": [
    "#https://www.kaggle.com/praveengovi/emotions-dataset-for-nlp\n",
    "\n",
    "df_train = load_dataset('train.txt')\n",
    "df_val = load_dataset('val.txt')\n",
    "df_test = load_dataset('test.txt')"
   ]
  },
  {
   "cell_type": "code",
   "execution_count": 5,
   "id": "4b96392d",
   "metadata": {},
   "outputs": [],
   "source": [
    "import numpy as np\n",
    "def X_y_builder(df):\n",
    "    X = list([sent for sent in df.sentence ])\n",
    "    y = np.array([label for label in df.sentiment])\n",
    "    return X, y\n",
    "X_train, y_train = X_y_builder(df_train)\n",
    "X_val, y_val = X_y_builder(df_val)\n",
    "X_test, y_test = X_y_builder(df_test)"
   ]
  },
  {
   "cell_type": "code",
   "execution_count": 6,
   "id": "73b99e3b",
   "metadata": {},
   "outputs": [],
   "source": [
    "import gensim.downloader as api\n",
    "from gensim.models import Word2Vec\n",
    "\n",
    "model_wiki = api.load('fasttext-wiki-news-subwords-300')\n",
    "model_w2v = Word2Vec(X_train, size = 300, min_count = 2).wv  \n"
   ]
  },
  {
   "cell_type": "code",
   "execution_count": 7,
   "id": "bbe3be16",
   "metadata": {},
   "outputs": [
    {
     "name": "stdout",
     "output_type": "stream",
     "text": [
      "[('feel', 1), ('like', 2), ('m', 3), ('nt', 4), ('feeling', 5)]\n"
     ]
    },
    {
     "data": {
      "text/plain": [
       "11856"
      ]
     },
     "execution_count": 7,
     "metadata": {},
     "output_type": "execute_result"
    }
   ],
   "source": [
    "from tensorflow.keras.preprocessing.text import Tokenizer\n",
    "\n",
    "\n",
    "\n",
    "DICT_SIZE = 15000\n",
    "\n",
    "# creating a dictionary with most used words\n",
    "# where num of words = DICT_SIZE\n",
    "tokenizer = Tokenizer(num_words=DICT_SIZE)\n",
    "tokenizer.fit_on_texts(X_train)\n",
    "print(list(tokenizer.word_index.items())[:5])\n",
    "len(tokenizer.word_index)\n"
   ]
  },
  {
   "cell_type": "code",
   "execution_count": 8,
   "id": "edf5dd3f",
   "metadata": {},
   "outputs": [],
   "source": [
    "x_train_max_len = max([len(i) for i in X_train])\n",
    "x_test_max_len = max([len(i) for i in X_test])\n",
    "x_validation_max_len = max([len(i) for i in X_val])\n",
    "\n",
    "MAX_LEN = max(x_train_max_len, x_test_max_len, x_validation_max_len)"
   ]
  },
  {
   "cell_type": "code",
   "execution_count": 9,
   "id": "66ee1843",
   "metadata": {},
   "outputs": [],
   "source": [
    "from tensorflow.keras.preprocessing.sequence import pad_sequences\n",
    "\n",
    "X_train = tokenizer.texts_to_sequences(X_train)\n",
    "X_train_pad = pad_sequences(X_train, maxlen=MAX_LEN)\n",
    "\n",
    "X_test = tokenizer.texts_to_sequences(X_test)\n",
    "X_test_pad = pad_sequences(X_test, maxlen=MAX_LEN)\n",
    "\n",
    "X_val = tokenizer.texts_to_sequences(X_val)\n",
    "X_val_pad = pad_sequences(X_val, maxlen=MAX_LEN)"
   ]
  },
  {
   "cell_type": "code",
   "execution_count": 10,
   "id": "c1a13f73",
   "metadata": {},
   "outputs": [],
   "source": [
    "def create_weight_matrix(model, second_model=False):\n",
    "    '''\n",
    "    Accepts word embedding model\n",
    "    and the second model, if provided\n",
    "    Returns weight matrix of size m*n, where\n",
    "    m - size of the dictionary\n",
    "    n - size of the word embedding vector\n",
    "    '''\n",
    "    vector_size = model.get_vector('like').shape[0]\n",
    "    w_matrix = np.zeros((DICT_SIZE, vector_size))\n",
    "    skipped_words = []\n",
    "\n",
    "    for word, index in tokenizer.word_index.items():\n",
    "        if index < DICT_SIZE:\n",
    "            if word in model.index2word: \n",
    "                w_matrix[index] = model.get_vector(word)\n",
    "        else:\n",
    "            if second_model:\n",
    "                if word in second_model.index2word:\n",
    "                    w_matrix[index] = second_model.get_vector(word)\n",
    "                else:\n",
    "                    skipped_words.append(word)\n",
    "            else:\n",
    "                skipped_words.append(word)\n",
    " \n",
    "    print(f'{len(skipped_words)} words were skipped. Some of them:')\n",
    "    print(skipped_words[:50])\n",
    "    return w_matrix"
   ]
  },
  {
   "cell_type": "code",
   "execution_count": 11,
   "id": "2e7f7955",
   "metadata": {},
   "outputs": [
    {
     "name": "stdout",
     "output_type": "stream",
     "text": [
      "0 words were skipped. Some of them:\n",
      "[]\n"
     ]
    }
   ],
   "source": [
    "weight_matrix = create_weight_matrix(model_wiki, model_w2v)"
   ]
  },
  {
   "cell_type": "code",
   "execution_count": 12,
   "id": "dc2beb62",
   "metadata": {},
   "outputs": [
    {
     "data": {
      "text/plain": [
       "(15000, 300)"
      ]
     },
     "execution_count": 12,
     "metadata": {},
     "output_type": "execute_result"
    }
   ],
   "source": [
    "weight_matrix.shape"
   ]
  },
  {
   "cell_type": "code",
   "execution_count": 13,
   "id": "cc26a804",
   "metadata": {},
   "outputs": [],
   "source": [
    "# import models, layers, optimizers from tensorflow\n",
    "from tensorflow.keras.models import Sequential\n",
    "from tensorflow.keras.layers import Embedding, LSTM, Bidirectional, Dense, Dropout\n",
    "from tensorflow.keras.optimizers import Adam"
   ]
  },
  {
   "cell_type": "code",
   "execution_count": 14,
   "id": "9df6c2db",
   "metadata": {},
   "outputs": [],
   "source": [
    "# import and initialize early stopping\n",
    "from tensorflow.keras.callbacks import EarlyStopping\n",
    "stop = EarlyStopping(monitor='val_loss', mode='min', verbose=1, patience=3)\n"
   ]
  },
  {
   "cell_type": "code",
   "execution_count": 15,
   "id": "204b3051",
   "metadata": {},
   "outputs": [],
   "source": [
    "\n",
    "\n",
    "# initialize sequential model\n",
    "model = Sequential()\n",
    "model.add(Embedding(input_dim = DICT_SIZE, # the whole vocabulary size\n",
    "                    output_dim = weight_matrix.shape[1], # vector space dimension\n",
    "                    input_length = X_train_pad.shape[1], # max_len of text sequence\n",
    "                    weights=[weight_matrix], # assign the embedding weight with embedding marix\n",
    "                    trainable=False)) # set the weight to be not trainable (static)\n",
    "\n"
   ]
  },
  {
   "cell_type": "code",
   "execution_count": 16,
   "id": "14bceefc",
   "metadata": {},
   "outputs": [
    {
     "name": "stdout",
     "output_type": "stream",
     "text": [
      "Model: \"sequential\"\n",
      "_________________________________________________________________\n",
      "Layer (type)                 Output Shape              Param #   \n",
      "=================================================================\n",
      "embedding (Embedding)        (None, 34, 300)           4500000   \n",
      "_________________________________________________________________\n",
      "bidirectional (Bidirectional (None, 256)               439296    \n",
      "_________________________________________________________________\n",
      "dense (Dense)                (None, 2)                 514       \n",
      "=================================================================\n",
      "Total params: 4,939,810\n",
      "Trainable params: 439,810\n",
      "Non-trainable params: 4,500,000\n",
      "_________________________________________________________________\n"
     ]
    }
   ],
   "source": [
    "\n",
    "\n",
    "#model.add(Bidirectional(LSTM(128, return_sequences=True))) \n",
    "#model.add(Dropout(0.2))\n",
    "#model.add(Bidirectional(LSTM(256, return_sequences=True)))\n",
    "#model.add(Dropout(0.2))\n",
    "model.add(Bidirectional(LSTM(128, return_sequences=False)))\n",
    "#model.add(Dropout(0.2))\n",
    "model.add(Dense(2, activation = 'softmax'))\n",
    "model.compile(loss='sparse_categorical_crossentropy', optimizer='adam', metrics='accuracy')\n",
    "\n",
    "\n",
    "model.summary()\n",
    "\n"
   ]
  },
  {
   "cell_type": "code",
   "execution_count": 17,
   "id": "a7605b4c",
   "metadata": {},
   "outputs": [
    {
     "name": "stdout",
     "output_type": "stream",
     "text": [
      "Epoch 1/3\n",
      "2000/2000 [==============================] - 16s 7ms/step - loss: 0.3361 - accuracy: 0.8571 - val_loss: 0.1773 - val_accuracy: 0.9380\n",
      "Epoch 2/3\n",
      "2000/2000 [==============================] - 12s 6ms/step - loss: 0.1509 - accuracy: 0.9427 - val_loss: 0.1155 - val_accuracy: 0.9535\n",
      "Epoch 3/3\n",
      "2000/2000 [==============================] - 12s 6ms/step - loss: 0.1024 - accuracy: 0.9601 - val_loss: 0.1026 - val_accuracy: 0.9640\n"
     ]
    }
   ],
   "source": [
    "\n",
    "history = model.fit(X_train_pad, y_train, \n",
    "                    validation_data = (X_val_pad, y_val),\n",
    "                    batch_size = 8,\n",
    "                    epochs = 3, \n",
    "                    callbacks = stop)"
   ]
  },
  {
   "cell_type": "code",
   "execution_count": 18,
   "id": "5aa954f6",
   "metadata": {},
   "outputs": [
    {
     "name": "stdout",
     "output_type": "stream",
     "text": [
      "63/63 [==============================] - 1s 6ms/step - loss: 0.1158 - accuracy: 0.9560\n"
     ]
    },
    {
     "data": {
      "text/plain": [
       "[0.11576952040195465, 0.9559999704360962]"
      ]
     },
     "execution_count": 18,
     "metadata": {},
     "output_type": "execute_result"
    }
   ],
   "source": [
    "model.evaluate(X_test_pad, y_test) "
   ]
  },
  {
   "cell_type": "code",
   "execution_count": 19,
   "id": "d3a653cf",
   "metadata": {},
   "outputs": [
    {
     "data": {
      "text/plain": [
       "1"
      ]
     },
     "execution_count": 19,
     "metadata": {},
     "output_type": "execute_result"
    }
   ],
   "source": [
    "def predict(sentence):\n",
    "    sent = [token for token in tokenize(sentence)]\n",
    "    sent = [token[0]for token in tokenizer.texts_to_sequences(sent) if len(token)>0]\n",
    "    sent = pad_sequences([sent], maxlen=MAX_LEN)\n",
    "    return np.argmax(model(sent))\n",
    "    \n",
    "predict(\" You're incompetent!\")"
   ]
  },
  {
   "cell_type": "code",
   "execution_count": 20,
   "id": "e9ba6b68",
   "metadata": {},
   "outputs": [
    {
     "name": "stderr",
     "output_type": "stream",
     "text": [
      "WARNING:absl:Found untraced functions such as lstm_cell_1_layer_call_and_return_conditional_losses, lstm_cell_1_layer_call_fn, lstm_cell_2_layer_call_and_return_conditional_losses, lstm_cell_2_layer_call_fn, lstm_cell_1_layer_call_fn while saving (showing 5 of 10). These functions will not be directly callable after loading.\n"
     ]
    },
    {
     "name": "stdout",
     "output_type": "stream",
     "text": [
      "INFO:tensorflow:Assets written to: sentiment_analyser/model/assets\n"
     ]
    },
    {
     "name": "stderr",
     "output_type": "stream",
     "text": [
      "INFO:tensorflow:Assets written to: sentiment_analyser/model/assets\n"
     ]
    }
   ],
   "source": [
    "model.save('sentiment_analyser/model')\n"
   ]
  },
  {
   "cell_type": "code",
   "execution_count": 21,
   "id": "2242ae3d",
   "metadata": {},
   "outputs": [],
   "source": [
    "import pickle\n",
    "\n",
    "with open('tokenizer.pickle', 'wb') as file:\n",
    "    pickle.dump(tokenizer, file, protocol=pickle.HIGHEST_PROTOCOL)"
   ]
  },
  {
   "cell_type": "code",
   "execution_count": 23,
   "id": "4922af9d",
   "metadata": {},
   "outputs": [],
   "source": [
    "import json\n",
    "import io\n",
    "tokenizer_json = tokenizer.to_json()\n",
    "with io.open('tokenizer.json', 'w', encoding='utf-8') as file:\n",
    "    file.write(json.dumps(tokenizer_json, ensure_ascii=False))\n"
   ]
  },
  {
   "cell_type": "code",
   "execution_count": null,
   "id": "3d307f35",
   "metadata": {},
   "outputs": [],
   "source": []
  }
 ],
 "metadata": {
  "kernelspec": {
   "display_name": "Python 3.8.5 64-bit ('anaconda3': virtualenv)",
   "language": "python",
   "name": "python385jvsc74a57bd09977e029b2da6177bb9bc7be3b4cc732c21fce726b7c7753acdf2f8f3db06ed7"
  },
  "language_info": {
   "codemirror_mode": {
    "name": "ipython",
    "version": 3
   },
   "file_extension": ".py",
   "mimetype": "text/x-python",
   "name": "python",
   "nbconvert_exporter": "python",
   "pygments_lexer": "ipython3",
   "version": "3.8.5"
  }
 },
 "nbformat": 4,
 "nbformat_minor": 5
}
