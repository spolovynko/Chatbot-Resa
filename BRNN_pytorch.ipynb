{
 "cells": [
  {
   "cell_type": "code",
   "execution_count": 1,
   "id": "2a0ee1a7",
   "metadata": {},
   "outputs": [],
   "source": [
    "import pandas as pd"
   ]
  },
  {
   "cell_type": "code",
   "execution_count": 2,
   "id": "9523be50",
   "metadata": {},
   "outputs": [],
   "source": [
    "import spacy\n",
    "import re\n",
    "nlp = spacy.load('en_core_web_lg')\n",
    "def tokenize(sentence):\n",
    "    sentence = sentence.lower()\n",
    "    sent = nlp(sentence)\n",
    "    tokens = [token.lemma_ for token in sent if not token.is_stop]\n",
    "    return tokens\n",
    "\n",
    "def load_dataset(path):\n",
    "    df = pd.read_csv(path, header=None, sep=';')\n",
    "    df.columns=['sentence', 'sentiment']\n",
    "    mapping = {'sadness': 1,\n",
    "              'fear' : 1,\n",
    "              'anger' : 1,\n",
    "              'love' : 0,\n",
    "              'surprise' : 0,\n",
    "              'joy' : 0}\n",
    "    df['sentiment'] = df.sentiment.map(mapping)\n",
    "    df['sentence'] = df['sentence'].apply(tokenize)\n",
    "    return df"
   ]
  },
  {
   "cell_type": "code",
   "execution_count": 3,
   "id": "ddfc789d",
   "metadata": {},
   "outputs": [],
   "source": [
    "df_train = load_dataset('train.txt')\n",
    "df_val = load_dataset('val.txt')\n",
    "df_test = load_dataset('test.txt')"
   ]
  },
  {
   "cell_type": "code",
   "execution_count": 4,
   "id": "1974f865",
   "metadata": {},
   "outputs": [],
   "source": [
    "import numpy as np\n",
    "def X_y_builder(df):\n",
    "    X = list([sent for sent in df.sentence ])\n",
    "    y = np.array([label for label in df.sentiment])\n",
    "    return X, y\n",
    "X_train, y_train = X_y_builder(df_train)\n",
    "X_val, y_val = X_y_builder(df_val)\n",
    "X_test, y_test = X_y_builder(df_test)"
   ]
  },
  {
   "cell_type": "code",
   "execution_count": 5,
   "id": "3b354611",
   "metadata": {},
   "outputs": [],
   "source": [
    "import gensim.downloader as api\n",
    "from gensim.models import Word2Vec\n",
    "\n",
    "model_wiki = api.load('fasttext-wiki-news-subwords-300')\n",
    "model_w2v = Word2Vec(X_train, size = 300, min_count = 2).wv  \n"
   ]
  },
  {
   "cell_type": "code",
   "execution_count": 6,
   "id": "12e81903",
   "metadata": {},
   "outputs": [],
   "source": [
    "from torchtext.vocab import build_vocab_from_iterator\n",
    "\n",
    "    \n",
    "vocab = build_vocab_from_iterator(X_train, specials=['<unk>'])\n",
    "vocab.set_default_index(vocab['<unk>'])"
   ]
  },
  {
   "cell_type": "code",
   "execution_count": 7,
   "id": "d1ee8bfe",
   "metadata": {},
   "outputs": [],
   "source": [
    "def transform_vocab(X):\n",
    "    return [vocab(sent) for sent in X]\n",
    "X_train_tok = transform_vocab(X_train)\n",
    "X_val_tok = transform_vocab(X_val)\n",
    "X_test_tok = transform_vocab(X_test)"
   ]
  },
  {
   "cell_type": "code",
   "execution_count": 8,
   "id": "8a7a3db8",
   "metadata": {},
   "outputs": [
    {
     "data": {
      "text/plain": [
       "34"
      ]
     },
     "execution_count": 8,
     "metadata": {},
     "output_type": "execute_result"
    }
   ],
   "source": [
    "x_train_max_len = max([len(i) for i in X_train])\n",
    "x_test_max_len = max([len(i) for i in X_test])\n",
    "x_validation_max_len = max([len(i) for i in X_val])\n",
    "\n",
    "MAX_LEN = max(x_train_max_len, x_test_max_len, x_validation_max_len)\n",
    "MAX_LEN"
   ]
  },
  {
   "cell_type": "code",
   "execution_count": 9,
   "id": "09c3357e",
   "metadata": {},
   "outputs": [],
   "source": [
    "import numpy as np\n",
    "def padding(X):\n",
    "    X_pad =  np.array([np.pad(sent, \n",
    "                              (0, MAX_LEN-len(sent)), \n",
    "                              constant_values=(0,0)) \n",
    "                       for sent in X])\n",
    "    return X_pad\n",
    "\n",
    "X_train_tok = padding(X_train_tok)\n",
    "X_val_tok = padding(X_val_tok)\n",
    "X_test_tok = padding(X_test_tok)"
   ]
  },
  {
   "cell_type": "code",
   "execution_count": 10,
   "id": "96eaaca2",
   "metadata": {},
   "outputs": [],
   "source": [
    "DICT_SIZE = len(vocab)\n",
    "def create_weight_matrix(model, second_model=False):\n",
    "    '''\n",
    "    Accepts word embedding model\n",
    "    and the second model, if provided\n",
    "    Returns weight matrix of size m*n, where\n",
    "    m - size of the dictionary\n",
    "    n - size of the word embedding vector\n",
    "    '''\n",
    "    vector_size = model.get_vector('like').shape[0]\n",
    "    w_matrix = np.zeros((DICT_SIZE, vector_size))\n",
    "    skipped_words = []\n",
    "\n",
    "    for index in range(1, len(vocab)):\n",
    "        word = vocab.lookup_token(index)\n",
    "        if index < DICT_SIZE:\n",
    "            if word in model.index2word: \n",
    "                w_matrix[index] = model.get_vector(word)\n",
    "        else:\n",
    "            if second_model:\n",
    "                if word in second_model.index2word:\n",
    "                    w_matrix[index] = second_model.get_vector(word)\n",
    "                else:\n",
    "                    skipped_words.append(word)\n",
    "            else:\n",
    "                skipped_words.append(word)\n",
    " \n",
    "    print(f'{len(skipped_words)} words were skipped. Some of them:')\n",
    "    print(skipped_words[:50])\n",
    "    return w_matrix"
   ]
  },
  {
   "cell_type": "code",
   "execution_count": 11,
   "id": "ae60488d",
   "metadata": {},
   "outputs": [
    {
     "name": "stdout",
     "output_type": "stream",
     "text": [
      "0 words were skipped. Some of them:\n",
      "[]\n"
     ]
    }
   ],
   "source": [
    "weight_matrix = create_weight_matrix(model_wiki, model_w2v)"
   ]
  },
  {
   "cell_type": "code",
   "execution_count": 12,
   "id": "936a8a71",
   "metadata": {},
   "outputs": [
    {
     "data": {
      "text/plain": [
       "(11857, 300)"
      ]
     },
     "execution_count": 12,
     "metadata": {},
     "output_type": "execute_result"
    }
   ],
   "source": [
    "weight_matrix.shape"
   ]
  },
  {
   "cell_type": "code",
   "execution_count": 13,
   "id": "3c60460a",
   "metadata": {},
   "outputs": [],
   "source": [
    "import torch\n",
    "from torch.utils.data import TensorDataset, DataLoader\n",
    "\n",
    "device = torch.device('cuda' if torch.cuda.is_available() else 'cpu')\n",
    "BATCH_SIZE = 32\n",
    "\n",
    "def dataset_creator(X, y):\n",
    "    X = torch.from_numpy(X).to(device)\n",
    "    y = torch.from_numpy(y).to(device)\n",
    "    dataset = TensorDataset(X, y)\n",
    "    return DataLoader(dataset, batch_size=BATCH_SIZE)\n",
    "\n",
    "dataloader_train = dataset_creator(X_train_tok, y_train)\n",
    "dataloader_val = dataset_creator(X_val_tok, y_val)\n",
    "dataloader_test = dataset_creator(X_test_tok, y_test)\n",
    "\n"
   ]
  },
  {
   "cell_type": "code",
   "execution_count": 14,
   "id": "6cb92101",
   "metadata": {},
   "outputs": [],
   "source": [
    "from torch import nn\n",
    "\n",
    "class BRNN(nn.Module):\n",
    "    def __init__(self, weight, output_dim): \n",
    "        super().__init__()     \n",
    "        self.embedding = nn.Embedding.from_pretrained(weight).float()\n",
    "        \n",
    "        self.lstm1 = nn.LSTM(weight.shape[-1], 128, bidirectional=True, batch_first=True)\n",
    "        self.dropout1 = nn.Dropout(p=0.2)\n",
    "        \n",
    "        self.lstm2 = nn.LSTM(128*2, 256, bidirectional=True, batch_first=True)\n",
    "        self.dropout2 = nn.Dropout(p=0.2)\n",
    "        \n",
    "        self.lstm3 = nn.LSTM(256*2, 128, bidirectional=True, batch_first=True)\n",
    "        self.dropout3 = nn.Dropout(p=0.2)\n",
    "        \n",
    "        self.fc = nn.Linear(128*2, output_dim)\n",
    "        \n",
    "    def forward(self, text):  \n",
    "        embedded = self.embedding(text)   \n",
    "          \n",
    "        out_lstm1, _ = self.lstm1(embedded)\n",
    "        out_lstm1 = self.dropout1(out_lstm1)\n",
    "        \n",
    "        out_lstm2, _ = self.lstm2(out_lstm1)\n",
    "        out_lstm2 = self.dropout2(out_lstm2)\n",
    "        \n",
    "        out_lstm3, _ = self.lstm3(out_lstm2)\n",
    "        out_lstm3 = self.dropout3(out_lstm3)\n",
    "\n",
    "        out = self.fc(out_lstm3[:,-1,:])\n",
    "        return out"
   ]
  },
  {
   "cell_type": "code",
   "execution_count": 15,
   "id": "01b563ce",
   "metadata": {},
   "outputs": [
    {
     "data": {
      "text/plain": [
       "BRNN(\n",
       "  (embedding): Embedding(11857, 300)\n",
       "  (lstm1): LSTM(300, 128, batch_first=True, bidirectional=True)\n",
       "  (dropout1): Dropout(p=0.2, inplace=False)\n",
       "  (lstm2): LSTM(256, 256, batch_first=True, bidirectional=True)\n",
       "  (dropout2): Dropout(p=0.2, inplace=False)\n",
       "  (lstm3): LSTM(512, 128, batch_first=True, bidirectional=True)\n",
       "  (dropout3): Dropout(p=0.2, inplace=False)\n",
       "  (fc): Linear(in_features=256, out_features=2, bias=True)\n",
       ")"
      ]
     },
     "execution_count": 15,
     "metadata": {},
     "output_type": "execute_result"
    }
   ],
   "source": [
    "num_classes = 2\n",
    "model = BRNN(weight=torch.tensor(weight_matrix).to(device), output_dim=num_classes)\n",
    "model.to(device)\n",
    "\n"
   ]
  },
  {
   "cell_type": "code",
   "execution_count": 16,
   "id": "0293d1c9",
   "metadata": {},
   "outputs": [],
   "source": [
    "import torch.optim as optim\n",
    "\n",
    "optimizer = optim.SGD(model.parameters(), lr=0.1) #optim.Adam(model.parameters(), lr=0.01)\n",
    "criterion = nn.CrossEntropyLoss()\n",
    "criterion = criterion.to(device)"
   ]
  },
  {
   "cell_type": "code",
   "execution_count": 17,
   "id": "4680b7b5",
   "metadata": {},
   "outputs": [],
   "source": [
    "def binary_accuracy(preds, y):\n",
    "    correct = preds.argmax(axis=1)==y\n",
    "    acc = correct.sum() / len(correct)\n",
    "    return acc\n"
   ]
  },
  {
   "cell_type": "code",
   "execution_count": 18,
   "id": "d328124a",
   "metadata": {},
   "outputs": [],
   "source": [
    "def train(model, iterator, optimizer, criterion):\n",
    "    epoch_loss = 0\n",
    "    epoch_acc = 0\n",
    "    \n",
    "    model.train()\n",
    "    \n",
    "    for batch in iterator:\n",
    "        model.zero_grad()\n",
    "        predictions = model(batch[0])\n",
    "        loss = criterion(predictions, batch[1])  \n",
    "        acc = binary_accuracy(predictions, batch[1])   \n",
    "        loss.backward()\n",
    "        optimizer.step()\n",
    "        \n",
    "        epoch_loss += loss.item()\n",
    "        epoch_acc += acc.item()\n",
    "        \n",
    "    return epoch_loss / len(iterator), epoch_acc / len(iterator)"
   ]
  },
  {
   "cell_type": "code",
   "execution_count": 19,
   "id": "3ed84256",
   "metadata": {},
   "outputs": [],
   "source": [
    "def evaluate(model, iterator, criterion):\n",
    "    \n",
    "    epoch_loss = 0\n",
    "    epoch_acc = 0\n",
    "    \n",
    "    model.eval()\n",
    "    \n",
    "    with torch.no_grad(): \n",
    "        for batch in iterator:\n",
    "            predictions = model(batch[0])      \n",
    "            loss = criterion(predictions, batch[1])       \n",
    "            acc = binary_accuracy(predictions, batch[1])\n",
    "\n",
    "            epoch_loss += loss.item()\n",
    "            epoch_acc += acc.item()\n",
    "        \n",
    "    return epoch_loss / len(iterator), epoch_acc / len(iterator)"
   ]
  },
  {
   "cell_type": "code",
   "execution_count": 20,
   "id": "19e8ae80",
   "metadata": {},
   "outputs": [],
   "source": [
    "def epoch_time(start_time, end_time):\n",
    "    elapsed_time = end_time - start_time\n",
    "    elapsed_mins = int(elapsed_time / 60)\n",
    "    elapsed_secs = int(elapsed_time - (elapsed_mins * 60))\n",
    "    return elapsed_mins, elapsed_secs"
   ]
  },
  {
   "cell_type": "code",
   "execution_count": 21,
   "id": "846836a6",
   "metadata": {},
   "outputs": [
    {
     "name": "stdout",
     "output_type": "stream",
     "text": [
      "Epoch: 01 | Epoch Time: 0m 15s\n",
      "\tTrain Loss: 0.689 | Train Acc: 54.71%\n",
      "\t Val. Loss: 0.697 |  Val. Acc: 51.84%\n",
      "Epoch: 02 | Epoch Time: 0m 15s\n",
      "\tTrain Loss: 0.689 | Train Acc: 54.76%\n",
      "\t Val. Loss: 0.696 |  Val. Acc: 51.84%\n",
      "Epoch: 03 | Epoch Time: 0m 15s\n",
      "\tTrain Loss: 0.689 | Train Acc: 54.76%\n",
      "\t Val. Loss: 0.696 |  Val. Acc: 51.84%\n",
      "Epoch: 04 | Epoch Time: 0m 17s\n",
      "\tTrain Loss: 0.689 | Train Acc: 54.76%\n",
      "\t Val. Loss: 0.697 |  Val. Acc: 51.84%\n",
      "Epoch: 05 | Epoch Time: 0m 17s\n",
      "\tTrain Loss: 0.689 | Train Acc: 54.76%\n",
      "\t Val. Loss: 0.697 |  Val. Acc: 51.84%\n"
     ]
    }
   ],
   "source": [
    "import time\n",
    "\n",
    "\n",
    "N_EPOCHS = 5\n",
    "\n",
    "best_valid_loss = float('inf')\n",
    "\n",
    "for epoch in range(N_EPOCHS):\n",
    "\n",
    "    start_time = time.time()\n",
    "    \n",
    "    train_loss, train_acc = train(model, dataloader_train, optimizer, criterion)\n",
    "    valid_loss, valid_acc = evaluate(model, dataloader_val, criterion)\n",
    "    \n",
    "    end_time = time.time()\n",
    "\n",
    "    epoch_mins, epoch_secs = epoch_time(start_time, end_time)\n",
    "    \n",
    "    if valid_loss < best_valid_loss:\n",
    "        best_valid_loss = valid_loss\n",
    "        torch.save(model.state_dict(), 'tut1-model.pt')\n",
    "    \n",
    "    print(f'Epoch: {epoch+1:02} | Epoch Time: {epoch_mins}m {epoch_secs}s')\n",
    "    print(f'\\tTrain Loss: {train_loss:.3f} | Train Acc: {train_acc*100:.2f}%')\n",
    "    print(f'\\t Val. Loss: {valid_loss:.3f} |  Val. Acc: {valid_acc*100:.2f}%')"
   ]
  },
  {
   "cell_type": "code",
   "execution_count": 22,
   "id": "f82ea96a",
   "metadata": {},
   "outputs": [
    {
     "name": "stdout",
     "output_type": "stream",
     "text": [
      "tensor([[-0.1714,  0.0824],\n",
      "        [-0.1714,  0.0824],\n",
      "        [-0.1714,  0.0824],\n",
      "        [-0.1714,  0.0824],\n",
      "        [-0.1714,  0.0824],\n",
      "        [-0.1714,  0.0824],\n",
      "        [-0.1714,  0.0824],\n",
      "        [-0.1714,  0.0824],\n",
      "        [-0.1714,  0.0824],\n",
      "        [-0.1714,  0.0824],\n",
      "        [-0.1714,  0.0824],\n",
      "        [-0.1714,  0.0824],\n",
      "        [-0.1714,  0.0824],\n",
      "        [-0.1714,  0.0824],\n",
      "        [-0.1714,  0.0824],\n",
      "        [-0.1714,  0.0824],\n",
      "        [-0.1714,  0.0824],\n",
      "        [-0.1714,  0.0824],\n",
      "        [-0.1714,  0.0824],\n",
      "        [-0.1714,  0.0824],\n",
      "        [-0.1714,  0.0824],\n",
      "        [-0.1714,  0.0824],\n",
      "        [-0.1714,  0.0824],\n",
      "        [-0.1714,  0.0824],\n",
      "        [-0.1714,  0.0824],\n",
      "        [-0.1714,  0.0824],\n",
      "        [-0.1714,  0.0824],\n",
      "        [-0.1714,  0.0824],\n",
      "        [-0.1714,  0.0824],\n",
      "        [-0.1714,  0.0824],\n",
      "        [-0.1714,  0.0824],\n",
      "        [-0.1714,  0.0824]], device='cuda:0', grad_fn=<AddmmBackward>)\n",
      "tensor([1, 1, 1, 0, 1, 1, 0, 1, 0, 0, 1, 0, 1, 1, 0, 0, 1, 1, 1, 1, 1, 1, 0, 0,\n",
      "        1, 1, 1, 1, 1, 0, 0, 1], device='cuda:0')\n"
     ]
    }
   ],
   "source": [
    "for batch in dataloader_train:\n",
    "    print(model(batch[0]))\n",
    "    print(batch[1])\n",
    "    break"
   ]
  },
  {
   "cell_type": "code",
   "execution_count": null,
   "id": "8db66c00",
   "metadata": {},
   "outputs": [],
   "source": []
  }
 ],
 "metadata": {
  "kernelspec": {
   "display_name": "Python 3.8.5 64-bit ('anaconda3': virtualenv)",
   "language": "python",
   "name": "python385jvsc74a57bd09977e029b2da6177bb9bc7be3b4cc732c21fce726b7c7753acdf2f8f3db06ed7"
  },
  "language_info": {
   "codemirror_mode": {
    "name": "ipython",
    "version": 3
   },
   "file_extension": ".py",
   "mimetype": "text/x-python",
   "name": "python",
   "nbconvert_exporter": "python",
   "pygments_lexer": "ipython3",
   "version": "3.8.5"
  }
 },
 "nbformat": 4,
 "nbformat_minor": 5
}
